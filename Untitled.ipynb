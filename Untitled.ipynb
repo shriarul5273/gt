{
 "cells": [
  {
   "cell_type": "code",
   "execution_count": 1,
   "id": "af4fa5aa",
   "metadata": {},
   "outputs": [],
   "source": [
    "import pickle as pkl\n",
    "H = pkl.load(open('chore_object.pkl','rb'))"
   ]
  },
  {
   "cell_type": "code",
   "execution_count": 21,
   "id": "fe901fe8",
   "metadata": {},
   "outputs": [
    {
     "data": {
      "text/plain": [
       "dict_keys(['obj_rots', 'obj_trans', 'obj_scales', 'frames', 'gender'])"
      ]
     },
     "execution_count": 21,
     "metadata": {},
     "output_type": "execute_result"
    }
   ],
   "source": [
    "H['Date03_Sub03_backpack_back'].keys()"
   ]
  },
  {
   "cell_type": "code",
   "execution_count": 34,
   "id": "225729dc",
   "metadata": {},
   "outputs": [
    {
     "data": {
      "text/plain": [
       "array([0.9768722 , 0.97649044, 0.9768439 , 0.9961597 , 0.9948685 ,\n",
       "       0.9765577 , 0.9765504 , 0.97657746, 1.003928  , 1.0039197 ,\n",
       "       0.9960901 , 0.99608177, 0.9960827 , 1.0010829 , 0.99613243,\n",
       "       1.0039414 , 0.99994075, 0.97086066, 0.96867347, 0.97060347,\n",
       "       1.0068272 , 0.9733455 , 0.96931565, 0.9683019 , 1.0279125 ,\n",
       "       0.99696594, 1.0306939 , 1.0327313 , 0.98974663, 1.0080451 ,\n",
       "       1.0253239 , 0.9740032 , 0.97404826, 0.9736017 , 0.9734912 ,\n",
       "       0.9743869 , 0.97349465, 0.97361004, 1.0261937 , 1.0066044 ,\n",
       "       0.98822874], dtype=float32)"
      ]
     },
     "execution_count": 34,
     "metadata": {},
     "output_type": "execute_result"
    }
   ],
   "source": [
    "H['Date03_Sub03_backpack_back']['obj_scales']"
   ]
  },
  {
   "cell_type": "code",
   "execution_count": 18,
   "id": "98088cff",
   "metadata": {},
   "outputs": [],
   "source": [
    "K = pkl.load(open('test_pk.pkl','rb'))"
   ]
  },
  {
   "cell_type": "code",
   "execution_count": 22,
   "id": "0266cbd0",
   "metadata": {},
   "outputs": [
    {
     "data": {
      "text/plain": [
       "dict_keys(['obj_rots', 'obj_trans', 'obj_scales', 'frames', 'gender'])"
      ]
     },
     "execution_count": 22,
     "metadata": {},
     "output_type": "execute_result"
    }
   ],
   "source": [
    "K['Date03_Sub03_basketball'].keys()"
   ]
  },
  {
   "cell_type": "code",
   "execution_count": 31,
   "id": "82b2677c",
   "metadata": {},
   "outputs": [
    {
     "data": {
      "text/plain": [
       "str"
      ]
     },
     "execution_count": 31,
     "metadata": {},
     "output_type": "execute_result"
    }
   ],
   "source": [
    "type(K['Date03_Sub03_basketball']['gender'])"
   ]
  },
  {
   "cell_type": "code",
   "execution_count": null,
   "id": "77f2dee9",
   "metadata": {},
   "outputs": [],
   "source": []
  }
 ],
 "metadata": {
  "kernelspec": {
   "display_name": "Python 3 (ipykernel)",
   "language": "python",
   "name": "python3"
  },
  "language_info": {
   "codemirror_mode": {
    "name": "ipython",
    "version": 3
   },
   "file_extension": ".py",
   "mimetype": "text/x-python",
   "name": "python",
   "nbconvert_exporter": "python",
   "pygments_lexer": "ipython3",
   "version": "3.8.15"
  }
 },
 "nbformat": 4,
 "nbformat_minor": 5
}
